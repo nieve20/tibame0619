{
  "cells": [
    {
      "cell_type": "markdown",
      "metadata": {
        "id": "view-in-github",
        "colab_type": "text"
      },
      "source": [
        "<a href=\"https://colab.research.google.com/github/nieve20/tibame_virtual_makeup_linebot/blob/main/app.ipynb\" target=\"_parent\"><img src=\"https://colab.research.google.com/assets/colab-badge.svg\" alt=\"Open In Colab\"/></a>"
      ]
    },
    {
      "cell_type": "code",
      "execution_count": null,
      "metadata": {
        "id": "2mDqhB78Fxp6",
        "colab": {
          "base_uri": "https://localhost:8080/"
        },
        "outputId": "9c1ca1de-fcfe-44ac-ab40-380292325515"
      },
      "outputs": [
        {
          "output_type": "stream",
          "name": "stdout",
          "text": [
            "Mounted at /content/drive\n"
          ]
        }
      ],
      "source": [
        "'''\n",
        "\n",
        "資料 mapping 至google drive\n",
        "\n",
        "把資料寫在/content/drive\n",
        "\n",
        "即可保存在 google drive內\n",
        "\n",
        "'''\n",
        "from google.colab import drive\n",
        "drive.mount('/content/drive')"
      ]
    },
    {
      "cell_type": "code",
      "execution_count": null,
      "metadata": {
        "id": "JyhJqq8KImyR",
        "colab": {
          "base_uri": "https://localhost:8080/"
        },
        "outputId": "3d477794-c7ea-4fc1-8bc8-e357f62c72ea"
      },
      "outputs": [
        {
          "output_type": "stream",
          "name": "stdout",
          "text": [
            "Collecting line-bot-sdk\n",
            "  Downloading line_bot_sdk-3.3.0-py2.py3-none-any.whl (730 kB)\n",
            "\u001b[?25l     \u001b[90m━━━━━━━━━━━━━━━━━━━━━━━━━━━━━━━━━━━━━━━━\u001b[0m \u001b[32m0.0/730.6 kB\u001b[0m \u001b[31m?\u001b[0m eta \u001b[36m-:--:--\u001b[0m\r\u001b[2K     \u001b[91m━━━━━━\u001b[0m\u001b[90m╺\u001b[0m\u001b[90m━━━━━━━━━━━━━━━━━━━━━━━━━━━━━━━━\u001b[0m \u001b[32m112.6/730.6 kB\u001b[0m \u001b[31m3.4 MB/s\u001b[0m eta \u001b[36m0:00:01\u001b[0m\r\u001b[2K     \u001b[91m━━━━━━━━━━━━━━━━━━━━━━━━━━━━━━━\u001b[0m\u001b[90m╺\u001b[0m\u001b[90m━━━━━━━\u001b[0m \u001b[32m583.7/730.6 kB\u001b[0m \u001b[31m8.5 MB/s\u001b[0m eta \u001b[36m0:00:01\u001b[0m\r\u001b[2K     \u001b[90m━━━━━━━━━━━━━━━━━━━━━━━━━━━━━━━━━━━━━━━\u001b[0m \u001b[32m730.6/730.6 kB\u001b[0m \u001b[31m8.1 MB/s\u001b[0m eta \u001b[36m0:00:00\u001b[0m\n",
            "\u001b[?25hRequirement already satisfied: flask in /usr/local/lib/python3.10/dist-packages (2.2.5)\n",
            "Requirement already satisfied: requests==2.31.0 in /usr/local/lib/python3.10/dist-packages (from line-bot-sdk) (2.31.0)\n",
            "Requirement already satisfied: aiohttp==3.8.5 in /usr/local/lib/python3.10/dist-packages (from line-bot-sdk) (3.8.5)\n",
            "Requirement already satisfied: future in /usr/local/lib/python3.10/dist-packages (from line-bot-sdk) (0.18.3)\n",
            "Requirement already satisfied: pydantic<3,>=2.0.3 in /usr/local/lib/python3.10/dist-packages (from line-bot-sdk) (2.2.0)\n",
            "Collecting aenum>=3.1.11 (from line-bot-sdk)\n",
            "  Downloading aenum-3.1.15-py3-none-any.whl (137 kB)\n",
            "\u001b[2K     \u001b[90m━━━━━━━━━━━━━━━━━━━━━━━━━━━━━━━━━━━━━━\u001b[0m \u001b[32m137.6/137.6 kB\u001b[0m \u001b[31m10.2 MB/s\u001b[0m eta \u001b[36m0:00:00\u001b[0m\n",
            "\u001b[?25hRequirement already satisfied: python-dateutil>=2.5.3 in /usr/local/lib/python3.10/dist-packages (from line-bot-sdk) (2.8.2)\n",
            "Collecting Deprecated (from line-bot-sdk)\n",
            "  Downloading Deprecated-1.2.14-py2.py3-none-any.whl (9.6 kB)\n",
            "Requirement already satisfied: attrs>=17.3.0 in /usr/local/lib/python3.10/dist-packages (from aiohttp==3.8.5->line-bot-sdk) (23.1.0)\n",
            "Requirement already satisfied: charset-normalizer<4.0,>=2.0 in /usr/local/lib/python3.10/dist-packages (from aiohttp==3.8.5->line-bot-sdk) (3.2.0)\n",
            "Requirement already satisfied: multidict<7.0,>=4.5 in /usr/local/lib/python3.10/dist-packages (from aiohttp==3.8.5->line-bot-sdk) (6.0.4)\n",
            "Requirement already satisfied: async-timeout<5.0,>=4.0.0a3 in /usr/local/lib/python3.10/dist-packages (from aiohttp==3.8.5->line-bot-sdk) (4.0.3)\n",
            "Requirement already satisfied: yarl<2.0,>=1.0 in /usr/local/lib/python3.10/dist-packages (from aiohttp==3.8.5->line-bot-sdk) (1.9.2)\n",
            "Requirement already satisfied: frozenlist>=1.1.1 in /usr/local/lib/python3.10/dist-packages (from aiohttp==3.8.5->line-bot-sdk) (1.4.0)\n",
            "Requirement already satisfied: aiosignal>=1.1.2 in /usr/local/lib/python3.10/dist-packages (from aiohttp==3.8.5->line-bot-sdk) (1.3.1)\n",
            "Requirement already satisfied: idna<4,>=2.5 in /usr/local/lib/python3.10/dist-packages (from requests==2.31.0->line-bot-sdk) (3.4)\n",
            "Requirement already satisfied: urllib3<3,>=1.21.1 in /usr/local/lib/python3.10/dist-packages (from requests==2.31.0->line-bot-sdk) (2.0.4)\n",
            "Requirement already satisfied: certifi>=2017.4.17 in /usr/local/lib/python3.10/dist-packages (from requests==2.31.0->line-bot-sdk) (2023.7.22)\n",
            "Requirement already satisfied: Werkzeug>=2.2.2 in /usr/local/lib/python3.10/dist-packages (from flask) (2.3.7)\n",
            "Requirement already satisfied: Jinja2>=3.0 in /usr/local/lib/python3.10/dist-packages (from flask) (3.1.2)\n",
            "Requirement already satisfied: itsdangerous>=2.0 in /usr/local/lib/python3.10/dist-packages (from flask) (2.1.2)\n",
            "Requirement already satisfied: click>=8.0 in /usr/local/lib/python3.10/dist-packages (from flask) (8.1.7)\n",
            "Requirement already satisfied: MarkupSafe>=2.0 in /usr/local/lib/python3.10/dist-packages (from Jinja2>=3.0->flask) (2.1.3)\n",
            "Requirement already satisfied: annotated-types>=0.4.0 in /usr/local/lib/python3.10/dist-packages (from pydantic<3,>=2.0.3->line-bot-sdk) (0.5.0)\n",
            "Requirement already satisfied: pydantic-core==2.6.0 in /usr/local/lib/python3.10/dist-packages (from pydantic<3,>=2.0.3->line-bot-sdk) (2.6.0)\n",
            "Requirement already satisfied: typing-extensions>=4.6.1 in /usr/local/lib/python3.10/dist-packages (from pydantic<3,>=2.0.3->line-bot-sdk) (4.7.1)\n",
            "Requirement already satisfied: six>=1.5 in /usr/local/lib/python3.10/dist-packages (from python-dateutil>=2.5.3->line-bot-sdk) (1.16.0)\n",
            "Requirement already satisfied: wrapt<2,>=1.10 in /usr/local/lib/python3.10/dist-packages (from Deprecated->line-bot-sdk) (1.14.1)\n",
            "Installing collected packages: aenum, Deprecated, line-bot-sdk\n",
            "Successfully installed Deprecated-1.2.14 aenum-3.1.15 line-bot-sdk-3.3.0\n",
            "Collecting pyngrok\n",
            "  Downloading pyngrok-6.0.0.tar.gz (681 kB)\n",
            "\u001b[2K     \u001b[90m━━━━━━━━━━━━━━━━━━━━━━━━━━━━━━━━━━━━━━━\u001b[0m \u001b[32m681.2/681.2 kB\u001b[0m \u001b[31m7.1 MB/s\u001b[0m eta \u001b[36m0:00:00\u001b[0m\n",
            "\u001b[?25h  Preparing metadata (setup.py) ... \u001b[?25l\u001b[?25hdone\n",
            "Requirement already satisfied: PyYAML in /usr/local/lib/python3.10/dist-packages (from pyngrok) (6.0.1)\n",
            "Building wheels for collected packages: pyngrok\n",
            "  Building wheel for pyngrok (setup.py) ... \u001b[?25l\u001b[?25hdone\n",
            "  Created wheel for pyngrok: filename=pyngrok-6.0.0-py3-none-any.whl size=19867 sha256=12578b7a31d191ea19b6a0e1fa11ff0eeef9c2bf9712c08e72967825541ddab5\n",
            "  Stored in directory: /root/.cache/pip/wheels/5c/42/78/0c3d438d7f5730451a25f7ac6cbf4391759d22a67576ed7c2c\n",
            "Successfully built pyngrok\n",
            "Installing collected packages: pyngrok\n",
            "Successfully installed pyngrok-6.0.0\n"
          ]
        }
      ],
      "source": [
        "# 安裝套件\n",
        "!pip install line-bot-sdk flask\n",
        "!pip install pyngrok"
      ]
    },
    {
      "cell_type": "code",
      "execution_count": null,
      "metadata": {
        "id": "rJDNE2TYEaYA"
      },
      "outputs": [],
      "source": [
        "'''\n",
        "引用套件\n",
        "'''\n",
        "\n",
        "# 引用Web Server套件\n",
        "from flask import Flask, request, abort, jsonify\n",
        "\n",
        "# 載入json處理套件\n",
        "import json\n",
        "\n",
        "# 外部連結自動生成套件\n",
        "# from flask_ngrok import run_with_ngrok\n",
        "from pyngrok import ngrok\n",
        "\n",
        "# 從linebot 套件包裡引用 LineBotApi 與 WebhookHandler 類別\n",
        "from linebot import (\n",
        "    LineBotApi, WebhookHandler\n",
        ")\n",
        "\n",
        "# 引用無效簽章錯誤\n",
        "from linebot.exceptions import (\n",
        "    InvalidSignatureError\n",
        ")\n"
      ]
    },
    {
      "cell_type": "code",
      "execution_count": null,
      "metadata": {
        "id": "XssY97Y9Eahe",
        "colab": {
          "base_uri": "https://localhost:8080/"
        },
        "outputId": "8074c08d-2f10-4d99-8152-3731acc2a1b8"
      },
      "outputs": [
        {
          "output_type": "stream",
          "name": "stderr",
          "text": [
            "<ipython-input-4-ee7a18addb98>:12: LineBotSdkDeprecatedIn30: Call to deprecated class LineBotApi. (Use v3 class; linebot.v3.<feature>. See https://github.com/line/line-bot-sdk-python/blob/master/README.rst for more details.) -- Deprecated since version 3.0.0.\n",
            "  line_bot_api = LineBotApi(\"gloyX3JokhzZnYhn2rAmeMfbnyweaVq/ii2rhEQ6O6UQtuOujqd2mK319ide490hhw+NgTyJY1txrxnSTaV70SVGIrzbEYM1VSO3o5n+u7FQ+9exmFh3HU9eBAW8FDzUVvExIkAlYCI7w2hHz1hb0wdB04t89/1O/w1cDnyilFU=\")\n",
            "<ipython-input-4-ee7a18addb98>:13: LineBotSdkDeprecatedIn30: Call to deprecated class WebhookHandler. (Use 'from linebot.v3.webhook import WebhookHandler' instead. See https://github.com/line/line-bot-sdk-python/blob/master/README.rst for more details.) -- Deprecated since version 3.0.0.\n",
            "  handler = WebhookHandler(\"6d3e8b3565bcf2c9a1f43d0dd61952af\")\n"
          ]
        }
      ],
      "source": [
        "'''\n",
        "建置主程序app\n",
        "\n",
        "建置handler與 line_bot_api\n",
        "'''\n",
        "\n",
        "# 設定Server啟用細節\n",
        "app = Flask(__name__,static_url_path = \"/material\" , static_folder = \"./material/\")\n",
        "\n",
        "\n",
        "# 生成實體物件\n",
        "line_bot_api = LineBotApi(\"Channel access token\")\n",
        "handler = WebhookHandler(\"Channel secret\")"
      ]
    },
    {
      "cell_type": "code",
      "execution_count": null,
      "metadata": {
        "id": "jyIFMBi4EvTl"
      },
      "outputs": [],
      "source": [
        "'''\n",
        "建置主程序的API入口\n",
        "  接受Line傳過來的消息\n",
        "  並取出消息內容\n",
        "  將消息內容存在google drive的檔案內\n",
        "  並請handler 進行消息驗證與轉發\n",
        "'''\n",
        "\n",
        "# 啟動server對外接口，使Line能丟消息進來\n",
        "@app.route(\"/\", methods=['POST'])\n",
        "def back():\n",
        "    # get X-Line-Signature header value\n",
        "    signature = request.headers['X-Line-Signature']\n",
        "\n",
        "    # get request body as text\n",
        "    body = request.get_data(as_text=True)\n",
        "    print(body)\n",
        "\n",
        "    # 記錄用戶log\n",
        "    f = open(\"/content/drive/MyDrive/ai-event.log\", \"a\")\n",
        "    f.write(body)\n",
        "    f.close()\n",
        "\n",
        "    # handle webhook body\n",
        "    try:\n",
        "        handler.handle(body, signature)\n",
        "    except InvalidSignatureError:\n",
        "        abort(400)\n",
        "\n",
        "    return 'OK'"
      ]
    },
    {
      "cell_type": "code",
      "source": [
        "'''\n",
        "解壓縮模型\n",
        "'''\n",
        "\n",
        "from zipfile import ZipFile\n",
        "\n",
        "with ZipFile('converted_savedmodel.zip', 'r') as zipObj:\n",
        "   # Extract all the contents of zip file in different directory\n",
        "   zipObj.extractall('converted_savedmodel')\n",
        "\n",
        "with ZipFile('shape_predictor_68_face_landmarks.zip', 'r') as zipObj:\n",
        "   # Extract all the contents of zip file in different directory\n",
        "   zipObj.extractall('shape_predictor_68_face_landmarks')"
      ],
      "metadata": {
        "id": "fzb54oDPknwT"
      },
      "execution_count": null,
      "outputs": []
    },
    {
      "cell_type": "code",
      "source": [
        "'''\n",
        "載入類別列表\n",
        "'''\n",
        "class_dict = {}\n",
        "with open('converted_savedmodel/labels.txt') as f:\n",
        "    for line in f:\n",
        "       (key, val) = line.split()\n",
        "       class_dict[int(key)] = val"
      ],
      "metadata": {
        "id": "CuizMbVElWSm"
      },
      "execution_count": null,
      "outputs": []
    },
    {
      "cell_type": "code",
      "source": [
        "!apt update\n",
        "!apt install ffmpeg libsm6 libxext6 build-essential cmake -y\n",
        "!pip install opencv-contrib-python\n",
        "!pip install dlib\n",
        "!pip install pyimgur"
      ],
      "metadata": {
        "colab": {
          "base_uri": "https://localhost:8080/"
        },
        "id": "S4kzUn-JoTf0",
        "outputId": "27775dec-868b-4334-9a68-9923d536893e"
      },
      "execution_count": null,
      "outputs": [
        {
          "output_type": "stream",
          "name": "stdout",
          "text": [
            "\u001b[33m\r0% [Working]\u001b[0m\r            \rHit:1 https://cloud.r-project.org/bin/linux/ubuntu jammy-cran40/ InRelease\n",
            "\u001b[33m\r0% [Connecting to archive.ubuntu.com] [Waiting for headers] [Connected to ppa.l\u001b[0m\r                                                                               \rHit:2 https://ppa.launchpadcontent.net/c2d4u.team/c2d4u4.0+/ubuntu jammy InRelease\n",
            "\u001b[33m\r0% [Connecting to archive.ubuntu.com (91.189.91.83)] [Waiting for headers] [Con\u001b[0m\r                                                                               \rHit:3 https://developer.download.nvidia.com/compute/cuda/repos/ubuntu2204/x86_64  InRelease\n",
            "\u001b[33m\r0% [Connecting to archive.ubuntu.com (91.189.91.83)] [Waiting for headers] [Con\u001b[0m\r                                                                               \rHit:4 http://security.ubuntu.com/ubuntu jammy-security InRelease\n",
            "\u001b[33m\r0% [Connecting to archive.ubuntu.com (91.189.91.83)] [Connected to ppa.launchpa\u001b[0m\r                                                                               \rHit:5 https://ppa.launchpadcontent.net/deadsnakes/ppa/ubuntu jammy InRelease\n",
            "\u001b[33m\r                                                                               \r0% [Waiting for headers]\u001b[0m\u001b[33m\r0% [Waiting for headers] [Connected to ppa.launchpadcontent.net (185.125.190.52\u001b[0m\r                                                                               \rHit:6 http://archive.ubuntu.com/ubuntu jammy InRelease\n",
            "Hit:7 https://ppa.launchpadcontent.net/graphics-drivers/ppa/ubuntu jammy InRelease\n",
            "Hit:8 http://archive.ubuntu.com/ubuntu jammy-updates InRelease\n",
            "Hit:9 https://ppa.launchpadcontent.net/ubuntugis/ppa/ubuntu jammy InRelease\n",
            "Hit:10 http://archive.ubuntu.com/ubuntu jammy-backports InRelease\n",
            "Reading package lists... Done\n",
            "Building dependency tree... Done\n",
            "Reading state information... Done\n",
            "16 packages can be upgraded. Run 'apt list --upgradable' to see them.\n",
            "Reading package lists... Done\n",
            "Building dependency tree... Done\n",
            "Reading state information... Done\n",
            "build-essential is already the newest version (12.9ubuntu3).\n",
            "libsm6 is already the newest version (2:1.2.3-1build2).\n",
            "libxext6 is already the newest version (2:1.3.4-1build1).\n",
            "cmake is already the newest version (3.22.1-1ubuntu1.22.04.1).\n",
            "ffmpeg is already the newest version (7:4.4.2-0ubuntu0.22.04.1).\n",
            "0 upgraded, 0 newly installed, 0 to remove and 16 not upgraded.\n",
            "Requirement already satisfied: opencv-contrib-python in /usr/local/lib/python3.10/dist-packages (4.8.0.76)\n",
            "Requirement already satisfied: numpy>=1.21.2 in /usr/local/lib/python3.10/dist-packages (from opencv-contrib-python) (1.23.5)\n",
            "Requirement already satisfied: dlib in /usr/local/lib/python3.10/dist-packages (19.24.2)\n"
          ]
        }
      ]
    },
    {
      "cell_type": "code",
      "source": [
        "# 引用套件\n",
        "import os\n",
        "import sys\n",
        "import dlib\n",
        "import math\n",
        "import requests\n",
        "import tensorflow.keras\n",
        "import pyimgur\n",
        "import faceBlendCommon as fbc\n",
        "from PIL import Image, ImageOps\n",
        "import cv2\n",
        "import time\n",
        "import numpy as np\n",
        "import matplotlib\n",
        "import matplotlib.pyplot as plt\n",
        "%matplotlib inline\n",
        "\n",
        "from linebot.models import (\n",
        "    MessageAction, URIAction, PostbackAction, DatetimePickerAction,CameraAction, CameraRollAction, LocationAction,\n",
        "    MessageEvent, TextMessage, TextSendMessage,\n",
        "    ImageMessage, ImageSendMessage,\n",
        "    QuickReply, QuickReplyButton, RichMenu,\n",
        "    ButtonsTemplate, TemplateSendMessage, CarouselTemplate, ImageCarouselTemplate,\n",
        "    CarouselColumn, ImageCarouselColumn,\n",
        "    PostbackEvent, PostbackTemplateAction\n",
        ")\n",
        "\n",
        "from linebot.models.events import (\n",
        "    FollowEvent\n",
        ")"
      ],
      "metadata": {
        "id": "8jldS4jgliGS"
      },
      "execution_count": null,
      "outputs": []
    },
    {
      "cell_type": "code",
      "source": [
        "# 傳送詢問用戶拍照的訊息\n",
        "text_message_1 = TextSendMessage(text=\"唇彩新色號發售中～\\n\\n請選擇想試用的新色號：\")\n",
        "text_message_2 = TextSendMessage(text=\"請上傳臉部明顯的照片或拍照\")\n",
        "buttons_template_color = TemplateSendMessage(\n",
        "            alt_text='選擇口紅色號',\n",
        "            template=ImageCarouselTemplate(\n",
        "                columns=[\n",
        "                    ImageCarouselColumn(\n",
        "                        image_url='https://i.imgur.com/GOEhDGB.jpg',\n",
        "                        action=PostbackTemplateAction(\n",
        "                            label='南瓜色',\n",
        "                            text='PumpkinSpiceLatte',\n",
        "                            data='@PumpkinSpiceLatte'\n",
        "                        )\n",
        "                    ),\n",
        "                    ImageCarouselColumn(\n",
        "                        image_url='https://i.imgur.com/WLDHwoK.jpg',\n",
        "                        action=PostbackTemplateAction(\n",
        "                            label='聖誕紅',\n",
        "                            text='Poinsettia',\n",
        "                            data='@Poinsettia'\n",
        "                        )\n",
        "                    ),\n",
        "                    ImageCarouselColumn(\n",
        "                        image_url='https://i.imgur.com/h32w7F1.jpg',\n",
        "                        action=PostbackTemplateAction(\n",
        "                            label='玫瑰紅',\n",
        "                            text='Rose',\n",
        "                            data='@Rose'\n",
        "                        )\n",
        "                    ),\n",
        "                    ImageCarouselColumn(\n",
        "                        image_url='https://i.imgur.com/gyxCwrF.jpg',\n",
        "                        action=PostbackTemplateAction(\n",
        "                            label='珊瑚紅',\n",
        "                            text='Coral',\n",
        "                            data='@Coral'\n",
        "                        )\n",
        "                    )\n",
        "                ]\n",
        "            )\n",
        "        )"
      ],
      "metadata": {
        "id": "spFvGRZGqJLG"
      },
      "execution_count": null,
      "outputs": []
    },
    {
      "cell_type": "code",
      "source": [
        "# TextMessage\n",
        "\n",
        "current_state = \"idle\"\n",
        "process_image = False\n",
        "makeup_image = False\n",
        "skin_tone = False\n",
        "selected_color = None\n",
        "colors = [\"PumpkinSpiceLatte\", \"Poinsettia\", \"Rose\", \"Coral\"]\n",
        "\n",
        "@handler.add(MessageEvent, message=TextMessage)\n",
        "def handle_message(event):\n",
        "    global current_state\n",
        "    global skin_tone\n",
        "    global process_image\n",
        "    global makeup_image\n",
        "    global selected_color\n",
        "\n",
        "    if event.message.text == '@膚色調測驗':\n",
        "        skin_tone = True\n",
        "        current_state = '@膚色調測驗'\n",
        "        send_question_and_options(event.reply_token)\n",
        "\n",
        "\n",
        "    elif skin_tone:\n",
        "        if event.message.text == '@A' or event.message.text == '@B':\n",
        "            current_state = '@膚色調測驗'\n",
        "            handle_skin_tone(event)\n",
        "\n",
        "    elif event.message.text == '@個人化推薦':\n",
        "        process_image = True\n",
        "        current_state = '@個人化推薦'\n",
        "        line_bot_api.reply_message(\n",
        "            event.reply_token,\n",
        "            TextSendMessage(text=\"想要了解您適合什麼產品嗎？\\n請打開相機或上傳自拍照。\")\n",
        "        )\n",
        "\n",
        "    elif event.message.text == '@新品上市':\n",
        "        current_state = '@新品上市'\n",
        "        line_bot_api.reply_message(\n",
        "            event.reply_token,\n",
        "            buttons_template_new\n",
        "        )\n",
        "\n",
        "    elif event.message.text == '@線上客服':\n",
        "        current_state = '@線上客服'\n",
        "        line_bot_api.reply_message(\n",
        "            event.reply_token,\n",
        "            TextSendMessage(text=\"請在此留下您的問題，我們將派專人與您聯繫。\")\n",
        "        )\n",
        "\n",
        "    elif event.message.text == '@限時優惠券':\n",
        "        current_state = '@限時優惠券'\n",
        "        pass\n",
        "\n",
        "    elif event.message.text == '@虛擬化妝間':\n",
        "        makeup_image = True\n",
        "        current_state = '@虛擬化妝間'\n",
        "        selected_color = None\n",
        "        line_bot_api.reply_message(\n",
        "            event.reply_token,\n",
        "            [text_message_1, buttons_template_color])\n",
        "\n",
        "    elif event.message.text in colors:\n",
        "        line_bot_api.reply_message(\n",
        "            event.reply_token,\n",
        "            [text_message_2])\n",
        "        selected_color = event.message.text\n",
        "\n",
        "    else:\n",
        "        current_state = \"idle\"\n",
        "        process_image = False\n",
        "        makeup_image = False\n",
        "        skin_tone = False\n",
        "        selected_color = None"
      ],
      "metadata": {
        "id": "OH7mAI2NON5k"
      },
      "execution_count": null,
      "outputs": []
    },
    {
      "cell_type": "code",
      "source": [
        "# ImageMessage\n",
        "\n",
        "@handler.add(MessageEvent, message=ImageMessage)\n",
        "def handle_image_message(event):\n",
        "    global process_image\n",
        "    global makeup_image\n",
        "\n",
        "    if current_state == '@個人化推薦' and process_image:\n",
        "        # 處理圖像並進行個人化推薦\n",
        "        handle_process_image(event)\n",
        "        process_image = False\n",
        "\n",
        "    elif current_state == '@虛擬化妝間' and makeup_image:\n",
        "        # 處理圖像並進行虛擬化妝\n",
        "        handle_makeup_image(event)\n",
        "        makeup_image = False"
      ],
      "metadata": {
        "id": "RFJv7pTjBfiO"
      },
      "execution_count": null,
      "outputs": []
    },
    {
      "cell_type": "code",
      "source": [
        "# PostbackEvent\n",
        "\n",
        "@handler.add(PostbackEvent)\n",
        "def handle_postback(event):\n",
        "    global skin_tone\n",
        "\n",
        "    if current_state == '@膚色調測驗' and skin_tone:\n",
        "        handle_skin_tone(event)"
      ],
      "metadata": {
        "id": "OZzfihz9PQSB"
      },
      "execution_count": null,
      "outputs": []
    },
    {
      "cell_type": "code",
      "source": [
        "#圖文選單\n",
        "\n",
        "menuRawData=\"\"\"\n",
        "{\n",
        "  \"size\": {\n",
        "    \"width\": 2500,\n",
        "    \"height\": 1686\n",
        "  },\n",
        "  \"selected\": true,\n",
        "  \"name\": \"圖文選單\",\n",
        "  \"chatBarText\": \"查看更多資訊\",\n",
        "  \"areas\": [\n",
        "    {\n",
        "      \"bounds\": {\n",
        "        \"x\": 152,\n",
        "        \"y\": 46,\n",
        "        \"width\": 655,\n",
        "        \"height\": 790\n",
        "      },\n",
        "      \"action\": {\n",
        "        \"type\": \"message\",\n",
        "        \"text\": \"@新品上市\"\n",
        "      }\n",
        "    },\n",
        "    {\n",
        "      \"bounds\": {\n",
        "        \"x\": 908,\n",
        "        \"y\": 42,\n",
        "        \"width\": 697,\n",
        "        \"height\": 811\n",
        "      },\n",
        "      \"action\": {\n",
        "        \"type\": \"message\",\n",
        "        \"text\": \"@個人化推薦\"\n",
        "      }\n",
        "    },\n",
        "    {\n",
        "      \"bounds\": {\n",
        "        \"x\": 1681,\n",
        "        \"y\": 38,\n",
        "        \"width\": 713,\n",
        "        \"height\": 815\n",
        "      },\n",
        "      \"action\": {\n",
        "        \"type\": \"message\",\n",
        "        \"text\": \"@線上客服\"\n",
        "      }\n",
        "    },\n",
        "    {\n",
        "      \"bounds\": {\n",
        "        \"x\": 160,\n",
        "        \"y\": 912,\n",
        "        \"width\": 642,\n",
        "        \"height\": 735\n",
        "      },\n",
        "      \"action\": {\n",
        "        \"type\": \"message\",\n",
        "        \"text\": \"@膚色調測驗\"\n",
        "      }\n",
        "    },\n",
        "    {\n",
        "      \"bounds\": {\n",
        "        \"x\": 929,\n",
        "        \"y\": 904,\n",
        "        \"width\": 684,\n",
        "        \"height\": 743\n",
        "      },\n",
        "      \"action\": {\n",
        "        \"type\": \"message\",\n",
        "        \"text\": \"@虛擬化妝間\"\n",
        "      }\n",
        "    },\n",
        "    {\n",
        "      \"bounds\": {\n",
        "        \"x\": 1681,\n",
        "        \"y\": 899,\n",
        "        \"width\": 718,\n",
        "        \"height\": 748\n",
        "      },\n",
        "      \"action\": {\n",
        "        \"type\": \"message\",\n",
        "        \"text\": \"@限時優惠券\"\n",
        "      }\n",
        "    }\n",
        "  ]\n",
        "}\n",
        "\"\"\"\n",
        "\n",
        "line_bot_api = LineBotApi(\"gloyX3JokhzZnYhn2rAmeMfbnyweaVq/ii2rhEQ6O6UQtuOujqd2mK319ide490hhw+NgTyJY1txrxnSTaV70SVGIrzbEYM1VSO3o5n+u7FQ+9exmFh3HU9eBAW8FDzUVvExIkAlYCI7w2hHz1hb0wdB04t89/1O/w1cDnyilFU=\")\n",
        "\n",
        "# 讀取圖文選單設定檔\n",
        "menuJson=json.loads(menuRawData)\n",
        "# 用line_bot_api的create_rich_menu方法 創造圖文選單id\n",
        "lineRichMenuId = line_bot_api.create_rich_menu(rich_menu=RichMenu.new_from_json_dict(menuJson))\n",
        "\n",
        "print(lineRichMenuId)\n",
        "\n",
        "# 開啟圖檔\n",
        "\n",
        "uploadImageFile=open(\"demo2.jpg\",'rb')\n",
        "\n",
        "# 讓line_bot_api把哪個生成的id跟圖文選單綁在一起\n",
        "setImageResponse = line_bot_api.set_rich_menu_image(lineRichMenuId,'image/jpeg',uploadImageFile)\n",
        "\n",
        "print(setImageResponse)\n",
        "\n",
        "# https://api.line.me/v2/bot/user/{userId}/richmenu/{richMenuId}\n"
      ],
      "metadata": {
        "colab": {
          "base_uri": "https://localhost:8080/"
        },
        "id": "Dm7PlSmOukHm",
        "outputId": "1b9dcfb2-879d-44f5-8141-df67f78bf11a"
      },
      "execution_count": null,
      "outputs": [
        {
          "output_type": "stream",
          "name": "stderr",
          "text": [
            "<ipython-input-28-dd5046c4aab6>:89: LineBotSdkDeprecatedIn30: Call to deprecated class LineBotApi. (Use v3 class; linebot.v3.<feature>. See https://github.com/line/line-bot-sdk-python/blob/master/README.rst for more details.) -- Deprecated since version 3.0.0.\n",
            "  line_bot_api = LineBotApi(\"gloyX3JokhzZnYhn2rAmeMfbnyweaVq/ii2rhEQ6O6UQtuOujqd2mK319ide490hhw+NgTyJY1txrxnSTaV70SVGIrzbEYM1VSO3o5n+u7FQ+9exmFh3HU9eBAW8FDzUVvExIkAlYCI7w2hHz1hb0wdB04t89/1O/w1cDnyilFU=\")\n",
            "<ipython-input-28-dd5046c4aab6>:94: LineBotSdkDeprecatedIn30: Call to deprecated method create_rich_menu. (Use 'from linebot.v3.messaging import MessagingApi' and 'MessagingApi(...).create_rich_menu(...)' instead. See https://github.com/line/line-bot-sdk-python/blob/master/README.rst for more details.) -- Deprecated since version 3.0.0.\n",
            "  lineRichMenuId = line_bot_api.create_rich_menu(rich_menu=RichMenu.new_from_json_dict(menuJson))\n"
          ]
        },
        {
          "output_type": "stream",
          "name": "stdout",
          "text": [
            "richmenu-9ffea73067b727ac5fcf4a55b2d3344f\n"
          ]
        },
        {
          "output_type": "stream",
          "name": "stderr",
          "text": [
            "<ipython-input-28-dd5046c4aab6>:103: LineBotSdkDeprecatedIn30: Call to deprecated method set_rich_menu_image. (Use 'from linebot.v3.messaging import MessagingApiBlob' and 'MessagingApiBlob.set_rich_menu_image(...)' instead. See https://github.com/line/line-bot-sdk-python/blob/master/README.rst for more details.) -- Deprecated since version 3.0.0.\n",
            "  setImageResponse = line_bot_api.set_rich_menu_image(lineRichMenuId,'image/jpeg',uploadImageFile)\n"
          ]
        },
        {
          "output_type": "stream",
          "name": "stdout",
          "text": [
            "None\n"
          ]
        }
      ]
    },
    {
      "cell_type": "code",
      "source": [
        "# 載入Follow事件\n",
        "# 告知handler，收到FollowEvent的話，就執行下面的方法處理\n",
        "@handler.add(FollowEvent)\n",
        "def reply_text_and_get_user_profile(event):\n",
        "\n",
        "    # 取出消息內User的資料\n",
        "    # 用line_bot_api 跟line溝通,取得個資get_profile(event.source.user_id)\n",
        "    user_profile = line_bot_api.get_profile(event.source.user_id)\n",
        "\n",
        "     # 將用戶資訊存在檔案內\n",
        "     # 存在google drive的user.txt\n",
        "    with open(\"/content/drive/MyDrive/users.txt\", \"a\") as myfile:\n",
        "        myfile.write(json.dumps(vars(user_profile),sort_keys=True))\n",
        "        myfile.write('\\n')\n",
        "\n",
        "    # 回覆文字消息與圖片消息\n",
        "    # 請line_bot_api回傳消息給line,line轉發回去給用戶\n",
        "    user_id = event.source.user_id\n",
        "    line_bot_api.link_rich_menu_to_user(user_id, lineRichMenuId)\n",
        "    line_bot_api.set_default_rich_menu(lineRichMenuId)\n",
        "\n",
        "    line_bot_api.reply_message(\n",
        "        event.reply_token,\n",
        "        [TextSendMessage(\"安安～\\n我是您的美妝小助理，\\n點選下方選單將會獲得更多資訊!\")]\n",
        "    )"
      ],
      "metadata": {
        "id": "7E-CXAnffdha"
      },
      "execution_count": null,
      "outputs": []
    },
    {
      "cell_type": "code",
      "source": [
        "# 新品上市\n",
        "\n",
        "buttons_template_new = TemplateSendMessage(\n",
        "    alt_text='新品上市',\n",
        "    template=ButtonsTemplate(\n",
        "        thumbnail_image_url='https://i.imgur.com/2Mf7qf2.jpg',\n",
        "        title='新品上市',\n",
        "        text='請點擊下方按鈕獲取更多產品消息',\n",
        "        actions=[\n",
        "            URIAction(\n",
        "                label='口紅',\n",
        "                uri='https://buy.line.me/'\n",
        "            ),\n",
        "            URIAction(\n",
        "                label='腮紅',\n",
        "                uri='https://buy.line.me/'\n",
        "            ),\n",
        "            URIAction(\n",
        "                label='粉餅',\n",
        "                uri='https://buy.line.me/'\n",
        "            ),\n",
        "            URIAction(\n",
        "                label='眼影',\n",
        "                uri='https://buy.line.me/'\n",
        "            )\n",
        "        ]\n",
        "    )\n",
        ")\n"
      ],
      "metadata": {
        "id": "PiFhJFWiato-"
      },
      "execution_count": null,
      "outputs": []
    },
    {
      "cell_type": "code",
      "source": [
        "# 個人化推薦\n",
        "\n",
        "# Disable scientific notation for clarity\n",
        "np.set_printoptions(suppress=True)\n",
        "\n",
        "# Load the model\n",
        "model = tensorflow.keras.models.load_model('converted_savedmodel/model.savedmodel')\n",
        "\n",
        "\n",
        "def handle_process_image(event):\n",
        "  global process_image\n",
        "  global current_state\n",
        "\n",
        "  print(time.asctime(time.localtime(time.time())))\n",
        "\n",
        "  message_content = line_bot_api.get_message_content(event.message.id)\n",
        "  file_name = event.message.id + '.jpg'\n",
        "  with open(file_name, 'wb') as fd:\n",
        "      for chunk in message_content.iter_content():\n",
        "          fd.write(chunk)\n",
        "\n",
        "  print(time.asctime(time.localtime(time.time())))\n",
        "\n",
        "  data = np.ndarray(shape=(1, 224, 224, 3), dtype=np.float32)\n",
        "\n",
        "  # Replace this with the path to your image\n",
        "  image = Image.open(file_name)\n",
        "\n",
        "  # Resize the image to a 224x224 with the same strategy as in TM2:\n",
        "  # resizing the image to be at least 224x224 and then cropping from the center\n",
        "  size = (224, 224)\n",
        "  image = ImageOps.fit(image, size, Image.ANTIALIAS)\n",
        "\n",
        "  print(time.asctime(time.localtime(time.time())))\n",
        "\n",
        "  # Turn the image into a numpy array\n",
        "  image_array = np.asarray(image)\n",
        "\n",
        "  # Display the resized image\n",
        "  image.show()\n",
        "\n",
        "  # Normalize the image\n",
        "  normalized_image_array = (image_array.astype(np.float32) / 127.0 - 1)\n",
        "\n",
        "  # Load the image into the array\n",
        "  data = np.ndarray(shape=(1, 224, 224, 3), dtype=np.float32)\n",
        "  data[0] = normalized_image_array[0:224, 0:224, 0:3]\n",
        "\n",
        "  # Run the inference\n",
        "  prediction = model.predict(data)\n",
        "\n",
        "  print(time.asctime(time.localtime(time.time())))\n",
        "\n",
        "  max_probability_item_index = np.argmax(prediction[0])\n",
        "\n",
        "  if prediction.max() > 0.6:\n",
        "    current_state = \"@個人化推薦\"\n",
        "    result_message = \"以下為適合您的產品：\"\n",
        "\n",
        "      # 根據標籤推薦不同產品\n",
        "    if class_dict.get(max_probability_item_index) in ['white', 'olive', 'brown']:\n",
        "          if class_dict.get(max_probability_item_index) == 'white':\n",
        "              carousel_columns = [\n",
        "                  CarouselColumn(\n",
        "                      thumbnail_image_url='https://i.imgur.com/FYSri1C.jpg',\n",
        "                      title='粉色系口紅',\n",
        "                      text='膚色白皙的您其實駕馭的了各種顏色，不過可以試著避開裸色，以免顯得沒有氣色呦！',\n",
        "                      actions=[\n",
        "                          URIAction(label='立即購買', uri='https://buy.line.me/'),\n",
        "                          URIAction(label='查看更多資訊', uri='https://buy.line.me/')\n",
        "                      ]\n",
        "                  ),\n",
        "                  CarouselColumn(\n",
        "                      thumbnail_image_url='https://i.imgur.com/xrFs0QM.jpg',\n",
        "                      title='粉紫色腮紅',\n",
        "                      text='粉紫色腮紅可以讓您的肌膚看起來更白淨剔透，快來試試吧！',\n",
        "                      actions=[\n",
        "                          URIAction(label='立即購買', uri='https://buy.line.me/'),\n",
        "                          URIAction(label='查看更多資訊', uri='https://buy.line.me/')\n",
        "                      ]\n",
        "                  )\n",
        "              ]\n",
        "          elif class_dict.get(max_probability_item_index) == 'olive':\n",
        "              carousel_columns = [\n",
        "                  CarouselColumn(\n",
        "                      thumbnail_image_url='https://i.imgur.com/CWeN3GN.jpg',\n",
        "                      title='橘色系口紅',\n",
        "                      text='珊瑚色以及橘色系的口紅會讓您顯得更加活潑有氣色！',\n",
        "                      actions=[\n",
        "                          URIAction(label='立即購買', uri='https://buy.line.me/'),\n",
        "                          URIAction(label='查看更多資訊', uri='https://buy.line.me/')\n",
        "                      ]\n",
        "                  ),\n",
        "                  CarouselColumn(\n",
        "                      thumbnail_image_url='https://i.imgur.com/f7n6bKX.jpg',\n",
        "                      title='粉橘色腮紅',\n",
        "                      text='暖色調的粉色會讓您看起來更加甜美，快來試試吧',\n",
        "                      actions=[\n",
        "                          URIAction(label='立即購買', uri='https://buy.line.me/'),\n",
        "                          URIAction(label='查看更多資訊', uri='https://buy.line.me/')\n",
        "                      ]\n",
        "                  )\n",
        "              ]\n",
        "          elif class_dict.get(max_probability_item_index) == 'brown':\n",
        "              carousel_columns = [\n",
        "                  CarouselColumn(\n",
        "                      thumbnail_image_url='https://i.imgur.com/ySWqOLk.jpg',\n",
        "                      title='亮色系口紅',\n",
        "                      text='大膽嘗試正紅色或橘色的腮紅，將會有出眾得效果喲！',\n",
        "                      actions=[\n",
        "                          URIAction(label='立即購買', uri='https://buy.line.me/'),\n",
        "                          URIAction(label='查看更多資訊', uri='https://buy.line.me/')\n",
        "                      ]\n",
        "                  ),\n",
        "                  CarouselColumn(\n",
        "                      thumbnail_image_url='https://i.imgur.com/GWrSiXg.jpg',\n",
        "                      title='焦糖色腮紅',\n",
        "                      text='焦糖色腮紅顯得氣質同時兼具修容效果，快來試試吧！',\n",
        "                      actions=[\n",
        "                          URIAction(label='立即購買', uri='https://buy.line.me/'),\n",
        "                          URIAction(label='查看更多資訊', uri='https://buy.line.me/')\n",
        "                      ]\n",
        "                  )\n",
        "              ]\n",
        "\n",
        "          carousel_template = CarouselTemplate(columns=carousel_columns)\n",
        "          template_message = TemplateSendMessage(alt_text='個人化推薦', template=carousel_template)\n",
        "\n",
        "          # 發送輪播訊息及影像辨識結果\n",
        "          line_bot_api.reply_message(\n",
        "              event.reply_token,\n",
        "              [TextSendMessage(text=result_message), template_message]\n",
        "          )\n",
        "          process_image = False\n",
        "          current_state = \"idle\"\n",
        "\n",
        "    else:\n",
        "          # 辨識結果為others時\n",
        "\n",
        "          line_bot_api.reply_message(\n",
        "              event.reply_token,\n",
        "              TextSendMessage(text=\"辨識失敗，若想重新測試，請再次點選此功能，並上傳人臉較為清晰的圖片呦!\")\n",
        "          )\n",
        "\n",
        "          if current_state != \"@個人化推薦\":\n",
        "            process_image = False\n",
        "            return\n",
        "\n",
        "  else:\n",
        "      # 辨識失敗\n",
        "      line_bot_api.reply_message(\n",
        "          event.reply_token,\n",
        "          TextSendMessage(text=\"辨識失敗，若想重新測試，請再次點選此功能，並上傳人臉較為清晰的圖片呦!\")\n",
        "      )\n",
        "      if current_state != \"@個人化推薦\":\n",
        "            process_image = False\n",
        "            return"
      ],
      "metadata": {
        "colab": {
          "base_uri": "https://localhost:8080/"
        },
        "id": "AOJjCoEwnwKK",
        "outputId": "efa52c03-ec8d-43dc-8d3b-c987332771c7"
      },
      "execution_count": null,
      "outputs": [
        {
          "output_type": "stream",
          "name": "stderr",
          "text": [
            "WARNING:tensorflow:SavedModel saved prior to TF 2.5 detected when loading Keras model. Please ensure that you are saving the model with model.save() or tf.keras.models.save_model(), *NOT* tf.saved_model.save(). To confirm, there should be a file named \"keras_metadata.pb\" in the SavedModel directory.\n",
            "WARNING:tensorflow:No training configuration found in save file, so the model was *not* compiled. Compile it manually.\n"
          ]
        }
      ]
    },
    {
      "cell_type": "code",
      "source": [
        "# 膚色色調測試\n",
        "\n",
        "def handle_skin_tone(event):\n",
        "    global current_state\n",
        "    if isinstance(event, PostbackEvent):\n",
        "        if current_state == \"@膚色調測驗\":\n",
        "            answer = event.postback.data\n",
        "            handle_answer(event.reply_token, answer)\n",
        "        else:\n",
        "            # 跳出膚色調測測試，將相關變數初始化\n",
        "            current_question_index = 0\n",
        "            skin_tone = False\n",
        "            current_state = \"idle\"\n",
        "\n",
        "def handle_answer(reply_token, answer):\n",
        "    global current_question_index\n",
        "    global current_state\n",
        "    global skin_tone\n",
        "\n",
        "    if current_state == \"@膚色調測驗\":\n",
        "        current_question = questions[current_question_index]\n",
        "        current_question['answers'].append(answer)\n",
        "\n",
        "        # 檢查是否還有下一題\n",
        "        if current_question_index < len(questions) - 1:\n",
        "            current_question_index += 1\n",
        "            send_question_and_options(reply_token)\n",
        "\n",
        "        else:\n",
        "            # 最後一題，計算結果\n",
        "            handle_result(reply_token, answer)\n",
        "\n",
        "            # 重新初始化\n",
        "            current_question_index = 0\n",
        "            skin_tone = False\n",
        "            current_state = \"idle\"\n",
        "            return\n",
        "\n",
        "\n",
        "    elif current_state != \"@idle\":\n",
        "        current_question_index = 0\n",
        "        skin_tone = False\n",
        "        return\n",
        "\n",
        "# 處理結果的程式碼\n",
        "def handle_result(reply_token, answer):\n",
        "    global skin_tone\n",
        "    global current_state\n",
        "\n",
        "    cold_count = 0\n",
        "    warm_count = 0\n",
        "\n",
        "    for question in questions:\n",
        "        for answer in question['answers']:\n",
        "            if answer == 'A':\n",
        "                cold_count += 1\n",
        "            elif answer == 'B':\n",
        "                warm_count += 1\n",
        "\n",
        "    if cold_count > 4:\n",
        "        reply_result = \"冷色調\"\n",
        "        summary = \"推薦服飾色彩：\\n草綠、淺藍、湖藍、淺紫\\n\\n不建議：橙色、紅色\\n\\n飾品推薦：銀飾\"\n",
        "    elif warm_count > 4:\n",
        "        reply_result = \"暖色調\"\n",
        "        summary = \"推薦服飾色彩：\\n紅色、橄欖綠、土黃、褐色\\n\\n不建議：紫色、藍色\\n\\n飾品推薦：黃飾\"\n",
        "    elif cold_count > 3:\n",
        "        reply_result = \"偏冷的中間色調\"\n",
        "        summary = \"中間色調幾乎所有顏色都適合你，完全可以隨興穿～任性穿～\"\n",
        "    else:\n",
        "        reply_result = \"偏暖的中間色調\"\n",
        "        summary = \"幾乎所有顏色都適合你，完全可以隨興穿～任性穿～\"\n",
        "\n",
        "    # 發送結果\n",
        "    result_message = f\"您的肌膚色調為：\\n{reply_result}\\n\\n{summary}\"\n",
        "    line_bot_api.reply_message(reply_token, TextSendMessage(text=result_message))\n",
        "\n",
        "    # 重新初始化\n",
        "    current_question_index = 0\n",
        "    skin_tone = False\n",
        "    current_state = \"idle\""
      ],
      "metadata": {
        "id": "vdLlTnNegoRl"
      },
      "execution_count": null,
      "outputs": []
    },
    {
      "cell_type": "code",
      "source": [
        "# 色調問題列表與答案\n",
        "questions = [\n",
        "    {\n",
        "        'question': '1.哪個顏色的布料讓您的黑眼圈和痘痘比較明顯、臉色比較差?',\n",
        "        'options': ['A', 'B'],\n",
        "        'text': ['褐色', '黑色'],\n",
        "        'answers': []\n",
        "    },\n",
        "    {\n",
        "        'question': '2.哪個顏色的布料讓您的膚色看起來灰白無血色、死氣沉沉',\n",
        "        'options': ['A', 'B'],\n",
        "        'text': ['米白', '純白'],\n",
        "        'answers': []\n",
        "    },\n",
        "    {\n",
        "        'question': '3.哪種材質的飾品讓您的膚色看起來比較光澤透亮？',\n",
        "        'options': ['A', 'B'],\n",
        "        'text': ['銀色', '金色'],\n",
        "        'answers': []\n",
        "    },\n",
        "    {\n",
        "        'question': '4.哪個顏色的布料讓您的膚色看起來比較健康有活力？',\n",
        "        'options': ['A', 'B'],\n",
        "        'text': ['粉紅', '粉橘'],\n",
        "        'answers': []\n",
        "    },\n",
        "    {\n",
        "        'question': '5.哪個顏色與您的唇色比較相近？',\n",
        "        'options': ['A', 'B'],\n",
        "        'text': ['粉紅', '粉橘'],\n",
        "        'answers': []\n",
        "    },\n",
        "    {\n",
        "        'question': '6.哪個顏色與您的手掌變紅時的顏色比較相近？',\n",
        "        'options': ['A', 'B'],\n",
        "        'text': ['粉紅', '粉橘'],\n",
        "        'answers': []\n",
        "    },\n",
        "    {\n",
        "        'question': '7.您的眼白是什麼顏色？',\n",
        "        'options': ['A', 'B'],\n",
        "        'text': ['有一點點帶藍或帶綠的白色', '純白或帶一點點的米色'],\n",
        "        'answers': []\n",
        "    },\n",
        "]\n",
        "\n",
        "# 當前問題索引\n",
        "current_question_index = 0\n",
        "\n",
        "# QuickReply按鈕\n",
        "def create_quick_reply_buttons(options):\n",
        "    buttons = []\n",
        "    for option in options:\n",
        "        button = QuickReplyButton(action=PostbackAction(label=option, data=option))\n",
        "        buttons.append(button)\n",
        "    return buttons\n",
        "\n",
        "# 發送問題及選項\n",
        "def send_question_and_options(reply_token):\n",
        "    current_question = questions[current_question_index]\n",
        "\n",
        "    message = TextSendMessage(text=current_question['question'])\n",
        "\n",
        "    options = current_question['text']\n",
        "\n",
        "    quick_reply_buttons = create_quick_reply_buttons(options)\n",
        "    message.quick_reply = QuickReply(items=quick_reply_buttons)\n",
        "\n",
        "    # 回傳剛剛選擇的答案\n",
        "    if options:\n",
        "        reply_message = [message, TextSendMessage(text=f\"{options}\")]\n",
        "    else:\n",
        "        reply_message = message\n",
        "\n",
        "    line_bot_api.reply_message(reply_token, message)"
      ],
      "metadata": {
        "id": "YX3SKWPum4L-"
      },
      "execution_count": null,
      "outputs": []
    },
    {
      "cell_type": "code",
      "source": [
        "# 虛擬妝容\n",
        "\n",
        "matplotlib.rcParams['figure.figsize'] = (8.0,8.0)\n",
        "matplotlib.rcParams['image.cmap'] = 'gray'\n",
        "matplotlib.rcParams['image.interpolation'] = 'bilinear'\n",
        "\n",
        "# 標示模型位置\n",
        "PREDICTOR_PATH = 'shape_predictor_68_face_landmarks/shape_predictor_68_face_landmarks.dat'\n",
        "\n",
        "# 獲取人臉檢視器\n",
        "faceDetector = dlib.get_frontal_face_detector()\n",
        "\n",
        "landmarkDetector = dlib.shape_predictor(PREDICTOR_PATH)\n",
        "\n",
        "\n",
        "def handle_makeup_image(event):\n",
        "    global makeup_image\n",
        "    global selected_color\n",
        "\n",
        "    print(time.asctime(time.localtime(time.time())))\n",
        "    message_content = line_bot_api.get_message_content(event.message.id)\n",
        "    file_name = event.message.id + '.jpg'\n",
        "    with open(file_name, 'wb') as fd:\n",
        "        for chunk in message_content.iter_content():\n",
        "            fd.write(chunk)\n",
        "    print(time.asctime(time.localtime(time.time())))\n",
        "\n",
        "    # 讀取圖像\n",
        "    im = cv2.imread(file_name)\n",
        "    imDlib = cv2.cvtColor(im,cv2.COLOR_BGR2RGB)\n",
        "\n",
        "\n",
        "    # 進行人臉檢測\n",
        "    faces = faceDetector(imDlib)\n",
        "\n",
        "    # 判斷是否檢測到人臉\n",
        "    if len(faces) == 0:\n",
        "        # 若未檢測到人臉，發送提醒訊息給使用者\n",
        "        reply_text = \"無法檢測到人臉，請換一張圖片重新嘗試。\"\n",
        "        line_bot_api.reply_message(event.reply_token, TextSendMessage(text=reply_text))\n",
        "\n",
        "        if current_state != \"@虛擬化妝間\":\n",
        "            makeup_image = False\n",
        "            selected_color = None\n",
        "            return\n",
        "\n",
        "  # 定義臉部\n",
        "    def alphaBlend(alpha, foreground, background):\n",
        "        fore = np.zeros(foreground.shape, dtype=foreground.dtype)\n",
        "        fore = cv2.multiply(alpha, foreground, fore, 1 / 255.0)\n",
        "        alphaPrime = np.ones(alpha.shape, dtype=alpha.dtype) * 255 - alpha\n",
        "        back = np.zeros(background.shape, dtype=background.dtype)\n",
        "        back = cv2.multiply(alphaPrime, background, back, 1 / 255.0)\n",
        "        outImage = cv2.add(fore, back)\n",
        "        return outImage\n",
        "\n",
        "    # 臉部旋轉\n",
        "    angle_deg = 0\n",
        "    center_x = int(im.shape[1]/2)\n",
        "    center_y = int(im.shape[0]/2)\n",
        "    M = cv2.getRotationMatrix2D((center_x, center_y), angle_deg, 1.0)\n",
        "    im = cv2.warpAffine(im, M, (im.shape[1], im.shape[0]))\n",
        "\n",
        "    # 座標\n",
        "    points = fbc.getLandmarks(faceDetector, landmarkDetector, imDlib)\n",
        "\n",
        "    # 定義口紅顏色\n",
        "    lipstick_colors = {\n",
        "        \"PumpkinSpiceLatte\": (47, 76, 161),\n",
        "        \"Poinsettia\": (42, 31, 168),\n",
        "        \"Rose\": (112, 113, 188),\n",
        "        \"Coral\": (91, 115, 193)}\n",
        "\n",
        "    def getLipsMask(size, lips):\n",
        "        # 找到凸點\n",
        "        hullIndex = cv2.convexHull(np.array(lips), returnPoints=False)\n",
        "        # Convert hull index to list of points\n",
        "        hullInt = []\n",
        "        for hIndex in hullIndex:\n",
        "            hullInt.append(lips[hIndex[0]])\n",
        "\n",
        "        # 將凸點標示為白色\n",
        "        mask = np.zeros((size[0], size[1], 3), dtype=np.uint8)\n",
        "        cv2.fillConvexPoly(mask, np.int32(hullInt), (255, 255, 255))\n",
        "        return mask\n",
        "\n",
        "    def apply_color_to_mask(mask, selected_color):\n",
        "        # 使用者選擇的口紅顏色\n",
        "        color = lipstick_colors.get(selected_color)\n",
        "\n",
        "        b, g, r = cv2.split(mask)\n",
        "        b = np.where(b > 0, color[0], 0).astype('uint8')\n",
        "        g = np.where(g > 0, color[1], 0).astype('uint8')\n",
        "        r = np.where(r > 0, color[2], 0).astype('uint8')\n",
        "\n",
        "        return cv2.merge((b, g, r)), selected_color\n",
        "\n",
        "    # 找到嘴唇的點\n",
        "    lips = [points[x] for x in range(48, 68)]\n",
        "    mouth = [points[x] for x in range(60, 68)]\n",
        "    clone_lips = im.copy()\n",
        "    for point in lips:\n",
        "        cv2.circle(clone_lips, point, 1, (0, 255, 0), -1)\n",
        "    for point in mouth:\n",
        "        cv2.circle(clone_lips, point, 1, (0, 0, 255), -1)\n",
        "    clone_lips = cv2.cvtColor(clone_lips,cv2.COLOR_BGR2RGB)\n",
        "\n",
        "    # 創建嘴唇遮罩\n",
        "    contours = [np.asarray(lips, dtype=np.int32)]\n",
        "    (x, y, w, h) = cv2.boundingRect(contours[0])\n",
        "    center = (int(x+w/2), int(y+h/2))\n",
        "    mask = getLipsMask(im.shape, lips)\n",
        "    mouth_mask = getLipsMask(im.shape, mouth)\n",
        "    mouth_mask = cv2.bitwise_not(mouth_mask)\n",
        "\n",
        "    # 擴大嘴唇遮罩邊緣\n",
        "    maskHeight, maskWidth = mask.shape[0:2]\n",
        "    maskSmall = cv2.resize(mask, (600, int(maskHeight * 600.0 / maskWidth)))\n",
        "    maskSmall = cv2.dilate(maskSmall, (1, 1))\n",
        "    maskSmall = cv2.GaussianBlur(maskSmall, (1, 1), 0, 0)\n",
        "    mask = cv2.resize(maskSmall, (maskWidth, maskHeight))\n",
        "\n",
        "    # 使用者選擇的口紅顏色\n",
        "    # 將顏色應用於遮罩\n",
        "    color_mask,color_name = apply_color_to_mask(mask, selected_color)\n",
        "\n",
        "    # 保存唇部紋理\n",
        "    masked_lips = cv2.bitwise_and(im, im, mask=mask[:, :, 0])\n",
        "    output = cv2.seamlessClone(masked_lips, color_mask, mask[:, :, 0], center, cv2.MIXED_CLONE)\n",
        "\n",
        "    #混合圖層\n",
        "    final = alphaBlend(mask, output, im)\n",
        "    final_image = cv2.cvtColor(final,cv2.COLOR_BGR2RGB)\n",
        "\n",
        "    def upload_to_imgur(client_id, image_path):\n",
        "        im = pyimgur.Imgur(client_id)\n",
        "        uploaded_image = im.upload_image(image_path, title=\"Uploaded with PyImgur\")\n",
        "        return uploaded_image.link\n",
        "\n",
        "    # 將結果保存\n",
        "    output_directory = '/content/drive/MyDrive/virtualmakeup'\n",
        "    os.makedirs(output_directory, exist_ok=True)\n",
        "    output_file = os.path.join(output_directory, selected_color + file_name)\n",
        "    final_image_bgr = cv2.cvtColor(final_image, cv2.COLOR_RGB2BGR)\n",
        "\n",
        "    # 保存文件\n",
        "    cv2.imwrite(output_file, final_image_bgr)\n",
        "\n",
        "    # 上傳到Imgur並生成連結\n",
        "    client_id = 'client_id'\n",
        "    imgur_link = upload_to_imgur(client_id, output_file)\n",
        "\n",
        "    # 返回圖片給用戶\n",
        "    line_bot_api.reply_message(event.reply_token, ImageSendMessage(original_content_url=imgur_link, preview_image_url=imgur_link))\n"
      ],
      "metadata": {
        "id": "bqE3zi37za3W"
      },
      "execution_count": null,
      "outputs": []
    },
    {
      "cell_type": "code",
      "execution_count": null,
      "metadata": {
        "colab": {
          "base_uri": "https://localhost:8080/"
        },
        "id": "NVkYb65fHY9W",
        "outputId": "2b670ea1-1c32-465a-c243-6e9fdc535983"
      },
      "outputs": [
        {
          "output_type": "stream",
          "name": "stderr",
          "text": [
            "WARNING:pyngrok.process.ngrok:t=2023-08-25T03:09:24+0000 lvl=warn msg=\"ngrok config file found at legacy location, move to XDG location\" xdg_path=/root/.config/ngrok/ngrok.yml legacy_path=/root/.ngrok2/ngrok.yml\n"
          ]
        },
        {
          "output_type": "stream",
          "name": "stdout",
          "text": [
            " * ngrok tunnel \"https://3d57-34-90-247-53.ngrok.io\" -> \"http://127.0.0.1:5000\"\n",
            " * Serving Flask app '__main__'\n",
            " * Debug mode: off\n"
          ]
        },
        {
          "output_type": "stream",
          "name": "stderr",
          "text": [
            "INFO:werkzeug:\u001b[31m\u001b[1mWARNING: This is a development server. Do not use it in a production deployment. Use a production WSGI server instead.\u001b[0m\n",
            " * Running on http://127.0.0.1:5000\n",
            "INFO:werkzeug:\u001b[33mPress CTRL+C to quit\u001b[0m\n",
            "INFO:werkzeug:127.0.0.1 - - [25/Aug/2023 03:10:00] \"POST / HTTP/1.1\" 200 -\n"
          ]
        },
        {
          "output_type": "stream",
          "name": "stdout",
          "text": [
            "{\"destination\":\"U2ae5fb7567b93ff3a4b9104d6e868630\",\"events\":[{\"type\":\"unfollow\",\"webhookEventId\":\"01H8NAQ2SVCRB257FZZ173VAY3\",\"deliveryContext\":{\"isRedelivery\":false},\"timestamp\":1692932999971,\"source\":{\"type\":\"user\",\"userId\":\"U978b21ba1799679c3e799e824c86c91d\"},\"mode\":\"active\"}]}\n",
            "{\"destination\":\"U2ae5fb7567b93ff3a4b9104d6e868630\",\"events\":[{\"type\":\"follow\",\"webhookEventId\":\"01H8NAQFHRNY848A7K4RVE5Y6G\",\"deliveryContext\":{\"isRedelivery\":false},\"timestamp\":1692933012524,\"source\":{\"type\":\"user\",\"userId\":\"U978b21ba1799679c3e799e824c86c91d\"},\"replyToken\":\"a25a3a0bea3241a2a3bbbdf8c0d0ed5c\",\"mode\":\"active\"}]}\n"
          ]
        },
        {
          "output_type": "stream",
          "name": "stderr",
          "text": [
            "<ipython-input-29-968693c99558>:8: LineBotSdkDeprecatedIn30: Call to deprecated method get_profile. (Use 'from linebot.v3.messaging import MessagingApi' and 'MessagingApi(...).get_profile(...)' instead. See https://github.com/line/line-bot-sdk-python/blob/master/README.rst for more details.) -- Deprecated since version 3.0.0.\n",
            "  user_profile = line_bot_api.get_profile(event.source.user_id)\n",
            "<ipython-input-29-968693c99558>:19: LineBotSdkDeprecatedIn30: Call to deprecated method link_rich_menu_to_user. (Use 'from linebot.v3.messaging import MessagingApi' and 'MessagingApi(...).link_rich_menu_id_to_user(...)' instead. See https://github.com/line/line-bot-sdk-python/blob/master/README.rst for more details.) -- Deprecated since version 3.0.0.\n",
            "  line_bot_api.link_rich_menu_to_user(user_id, lineRichMenuId)\n",
            "<ipython-input-29-968693c99558>:20: LineBotSdkDeprecatedIn30: Call to deprecated method set_default_rich_menu. (Use 'from linebot.v3.messaging import MessagingApi' and 'MessagingApi(...).set_default_rich_menu(...)' instead. See https://github.com/line/line-bot-sdk-python/blob/master/README.rst for more details.) -- Deprecated since version 3.0.0.\n",
            "  line_bot_api.set_default_rich_menu(lineRichMenuId)\n",
            "<ipython-input-29-968693c99558>:22: LineBotSdkDeprecatedIn30: Call to deprecated method reply_message. (Use 'from linebot.v3.messaging import MessagingApi' and 'MessagingApi(...).reply_message(...)' instead. See https://github.com/line/line-bot-sdk-python/blob/master/README.rst for more details.) -- Deprecated since version 3.0.0.\n",
            "  line_bot_api.reply_message(\n",
            "INFO:werkzeug:127.0.0.1 - - [25/Aug/2023 03:10:15] \"POST / HTTP/1.1\" 200 -\n"
          ]
        },
        {
          "output_type": "stream",
          "name": "stdout",
          "text": [
            "{\"destination\":\"U2ae5fb7567b93ff3a4b9104d6e868630\",\"events\":[{\"type\":\"message\",\"message\":{\"type\":\"text\",\"id\":\"469932700875620761\",\"text\":\"@新品上市\"},\"webhookEventId\":\"01H8NAQQKHWV7TD4BGCJK1NRGP\",\"deliveryContext\":{\"isRedelivery\":false},\"timestamp\":1692933021174,\"source\":{\"type\":\"user\",\"userId\":\"U978b21ba1799679c3e799e824c86c91d\"},\"replyToken\":\"2a15778345b64d0f99c6e1aa20501953\",\"mode\":\"active\"}]}\n"
          ]
        },
        {
          "output_type": "stream",
          "name": "stderr",
          "text": [
            "<ipython-input-25-1e4843afef3f>:39: LineBotSdkDeprecatedIn30: Call to deprecated method reply_message. (Use 'from linebot.v3.messaging import MessagingApi' and 'MessagingApi(...).reply_message(...)' instead. See https://github.com/line/line-bot-sdk-python/blob/master/README.rst for more details.) -- Deprecated since version 3.0.0.\n",
            "  line_bot_api.reply_message(\n",
            "INFO:werkzeug:127.0.0.1 - - [25/Aug/2023 03:10:22] \"POST / HTTP/1.1\" 200 -\n"
          ]
        },
        {
          "output_type": "stream",
          "name": "stdout",
          "text": [
            "{\"destination\":\"U2ae5fb7567b93ff3a4b9104d6e868630\",\"events\":[{\"type\":\"message\",\"message\":{\"type\":\"text\",\"id\":\"469932721377378566\",\"text\":\"@個人化推薦\"},\"webhookEventId\":\"01H8NAR3JGSFXBV19XBB6KJ9WQ\",\"deliveryContext\":{\"isRedelivery\":false},\"timestamp\":1692933033467,\"source\":{\"type\":\"user\",\"userId\":\"U978b21ba1799679c3e799e824c86c91d\"},\"replyToken\":\"66ec512a03844bb2b3ba056da9d0f69d\",\"mode\":\"active\"}]}\n"
          ]
        },
        {
          "output_type": "stream",
          "name": "stderr",
          "text": [
            "<ipython-input-25-1e4843afef3f>:32: LineBotSdkDeprecatedIn30: Call to deprecated method reply_message. (Use 'from linebot.v3.messaging import MessagingApi' and 'MessagingApi(...).reply_message(...)' instead. See https://github.com/line/line-bot-sdk-python/blob/master/README.rst for more details.) -- Deprecated since version 3.0.0.\n",
            "  line_bot_api.reply_message(\n",
            "INFO:werkzeug:127.0.0.1 - - [25/Aug/2023 03:10:34] \"POST / HTTP/1.1\" 200 -\n"
          ]
        },
        {
          "output_type": "stream",
          "name": "stdout",
          "text": [
            "{\"destination\":\"U2ae5fb7567b93ff3a4b9104d6e868630\",\"events\":[{\"type\":\"message\",\"message\":{\"type\":\"image\",\"id\":\"469932759310139426\",\"contentProvider\":{\"type\":\"line\"}},\"webhookEventId\":\"01H8NARSQDK17840PNVPATDW87\",\"deliveryContext\":{\"isRedelivery\":false},\"timestamp\":1692933056138,\"source\":{\"type\":\"user\",\"userId\":\"U978b21ba1799679c3e799e824c86c91d\"},\"replyToken\":\"924effd90b3543b5a6c0d7d092a3cd4a\",\"mode\":\"active\"}]}\n",
            "Fri Aug 25 03:10:56 2023\n"
          ]
        },
        {
          "output_type": "stream",
          "name": "stderr",
          "text": [
            "<ipython-input-31-65c395a2cddd>:16: LineBotSdkDeprecatedIn30: Call to deprecated method get_message_content. (Use 'from linebot.v3.messaging import MessagingApiBlob' and 'MessagingApiBlob(...).get_message_content(...)' instead. See https://github.com/line/line-bot-sdk-python/blob/master/README.rst for more details.) -- Deprecated since version 3.0.0.\n",
            "  message_content = line_bot_api.get_message_content(event.message.id)\n"
          ]
        },
        {
          "output_type": "stream",
          "name": "stdout",
          "text": [
            "Fri Aug 25 03:10:58 2023\n",
            "Fri Aug 25 03:10:58 2023\n"
          ]
        },
        {
          "output_type": "stream",
          "name": "stderr",
          "text": [
            "<ipython-input-31-65c395a2cddd>:32: DeprecationWarning: ANTIALIAS is deprecated and will be removed in Pillow 10 (2023-07-01). Use LANCZOS or Resampling.LANCZOS instead.\n",
            "  image = ImageOps.fit(image, size, Image.ANTIALIAS)\n"
          ]
        },
        {
          "output_type": "stream",
          "name": "stdout",
          "text": [
            "1/1 [==============================] - 1s 1s/step\n",
            "Fri Aug 25 03:11:00 2023\n"
          ]
        },
        {
          "output_type": "stream",
          "name": "stderr",
          "text": [
            "<ipython-input-31-65c395a2cddd>:130: LineBotSdkDeprecatedIn30: Call to deprecated method reply_message. (Use 'from linebot.v3.messaging import MessagingApi' and 'MessagingApi(...).reply_message(...)' instead. See https://github.com/line/line-bot-sdk-python/blob/master/README.rst for more details.) -- Deprecated since version 3.0.0.\n",
            "  line_bot_api.reply_message(\n",
            "INFO:werkzeug:127.0.0.1 - - [25/Aug/2023 03:11:00] \"POST / HTTP/1.1\" 200 -\n"
          ]
        },
        {
          "output_type": "stream",
          "name": "stdout",
          "text": [
            "{\"destination\":\"U2ae5fb7567b93ff3a4b9104d6e868630\",\"events\":[{\"type\":\"message\",\"message\":{\"type\":\"text\",\"id\":\"469932800867565866\",\"text\":\"@個人化推薦\"},\"webhookEventId\":\"01H8NASJ56WY2MGW7Y6J6NHNK2\",\"deliveryContext\":{\"isRedelivery\":false},\"timestamp\":1692933080759,\"source\":{\"type\":\"user\",\"userId\":\"U978b21ba1799679c3e799e824c86c91d\"},\"replyToken\":\"6ed8d02a53124c97999b1f1507824639\",\"mode\":\"active\"}]}\n"
          ]
        },
        {
          "output_type": "stream",
          "name": "stderr",
          "text": [
            "<ipython-input-25-1e4843afef3f>:32: LineBotSdkDeprecatedIn30: Call to deprecated method reply_message. (Use 'from linebot.v3.messaging import MessagingApi' and 'MessagingApi(...).reply_message(...)' instead. See https://github.com/line/line-bot-sdk-python/blob/master/README.rst for more details.) -- Deprecated since version 3.0.0.\n",
            "  line_bot_api.reply_message(\n",
            "INFO:werkzeug:127.0.0.1 - - [25/Aug/2023 03:11:22] \"POST / HTTP/1.1\" 200 -\n"
          ]
        },
        {
          "output_type": "stream",
          "name": "stdout",
          "text": [
            "{\"destination\":\"U2ae5fb7567b93ff3a4b9104d6e868630\",\"events\":[{\"type\":\"message\",\"message\":{\"type\":\"image\",\"id\":\"469932829942481077\",\"contentProvider\":{\"type\":\"line\"}},\"webhookEventId\":\"01H8NAT39E16MRKQM3C0ZQ8RH5\",\"deliveryContext\":{\"isRedelivery\":false},\"timestamp\":1692933098775,\"source\":{\"type\":\"user\",\"userId\":\"U978b21ba1799679c3e799e824c86c91d\"},\"replyToken\":\"b56005f5256641af94bee11943d91014\",\"mode\":\"active\"}]}\n",
            "Fri Aug 25 03:11:39 2023\n"
          ]
        },
        {
          "output_type": "stream",
          "name": "stderr",
          "text": [
            "<ipython-input-31-65c395a2cddd>:16: LineBotSdkDeprecatedIn30: Call to deprecated method get_message_content. (Use 'from linebot.v3.messaging import MessagingApiBlob' and 'MessagingApiBlob(...).get_message_content(...)' instead. See https://github.com/line/line-bot-sdk-python/blob/master/README.rst for more details.) -- Deprecated since version 3.0.0.\n",
            "  message_content = line_bot_api.get_message_content(event.message.id)\n"
          ]
        },
        {
          "output_type": "stream",
          "name": "stdout",
          "text": [
            "Fri Aug 25 03:11:41 2023\n",
            "Fri Aug 25 03:11:41 2023\n",
            "1/1 [==============================] - 0s 40ms/step\n",
            "Fri Aug 25 03:11:41 2023\n"
          ]
        },
        {
          "output_type": "stream",
          "name": "stderr",
          "text": [
            "<ipython-input-31-65c395a2cddd>:32: DeprecationWarning: ANTIALIAS is deprecated and will be removed in Pillow 10 (2023-07-01). Use LANCZOS or Resampling.LANCZOS instead.\n",
            "  image = ImageOps.fit(image, size, Image.ANTIALIAS)\n",
            "<ipython-input-31-65c395a2cddd>:130: LineBotSdkDeprecatedIn30: Call to deprecated method reply_message. (Use 'from linebot.v3.messaging import MessagingApi' and 'MessagingApi(...).reply_message(...)' instead. See https://github.com/line/line-bot-sdk-python/blob/master/README.rst for more details.) -- Deprecated since version 3.0.0.\n",
            "  line_bot_api.reply_message(\n",
            "INFO:werkzeug:127.0.0.1 - - [25/Aug/2023 03:11:41] \"POST / HTTP/1.1\" 200 -\n"
          ]
        },
        {
          "output_type": "stream",
          "name": "stdout",
          "text": [
            "{\"destination\":\"U2ae5fb7567b93ff3a4b9104d6e868630\",\"events\":[{\"type\":\"message\",\"message\":{\"type\":\"text\",\"id\":\"469932859017658616\",\"text\":\"@線上客服\"},\"webhookEventId\":\"01H8NATKPE7BSRYSB7PZBYTH2C\",\"deliveryContext\":{\"isRedelivery\":false},\"timestamp\":1692933115487,\"source\":{\"type\":\"user\",\"userId\":\"U978b21ba1799679c3e799e824c86c91d\"},\"replyToken\":\"125f828fa9aa48809210edd2af79911c\",\"mode\":\"active\"}]}\n"
          ]
        },
        {
          "output_type": "stream",
          "name": "stderr",
          "text": [
            "<ipython-input-25-1e4843afef3f>:46: LineBotSdkDeprecatedIn30: Call to deprecated method reply_message. (Use 'from linebot.v3.messaging import MessagingApi' and 'MessagingApi(...).reply_message(...)' instead. See https://github.com/line/line-bot-sdk-python/blob/master/README.rst for more details.) -- Deprecated since version 3.0.0.\n",
            "  line_bot_api.reply_message(\n",
            "INFO:werkzeug:127.0.0.1 - - [25/Aug/2023 03:11:56] \"POST / HTTP/1.1\" 200 -\n"
          ]
        },
        {
          "output_type": "stream",
          "name": "stdout",
          "text": [
            "{\"destination\":\"U2ae5fb7567b93ff3a4b9104d6e868630\",\"events\":[{\"type\":\"message\",\"message\":{\"type\":\"text\",\"id\":\"469932864956793114\",\"text\":\"@膚色調測驗\"},\"webhookEventId\":\"01H8NATQ3BQR358KBHD6QFR2X6\",\"deliveryContext\":{\"isRedelivery\":false},\"timestamp\":1692933119039,\"source\":{\"type\":\"user\",\"userId\":\"U978b21ba1799679c3e799e824c86c91d\"},\"replyToken\":\"3fdfa6b4a2874e03b7a8b3f2cfc4ccc8\",\"mode\":\"active\"}]}\n"
          ]
        },
        {
          "output_type": "stream",
          "name": "stderr",
          "text": [
            "<ipython-input-33-37d273befcf3>:75: LineBotSdkDeprecatedIn30: Call to deprecated method reply_message. (Use 'from linebot.v3.messaging import MessagingApi' and 'MessagingApi(...).reply_message(...)' instead. See https://github.com/line/line-bot-sdk-python/blob/master/README.rst for more details.) -- Deprecated since version 3.0.0.\n",
            "  line_bot_api.reply_message(reply_token, message)\n",
            "INFO:werkzeug:127.0.0.1 - - [25/Aug/2023 03:11:59] \"POST / HTTP/1.1\" 200 -\n"
          ]
        },
        {
          "output_type": "stream",
          "name": "stdout",
          "text": [
            "{\"destination\":\"U2ae5fb7567b93ff3a4b9104d6e868630\",\"events\":[{\"type\":\"postback\",\"postback\":{\"data\":\"褐色\"},\"webhookEventId\":\"01H8NATT62YMBWPT2PQ88PXB3N\",\"deliveryContext\":{\"isRedelivery\":false},\"timestamp\":1692933122237,\"source\":{\"type\":\"user\",\"userId\":\"U978b21ba1799679c3e799e824c86c91d\"},\"replyToken\":\"012b4fc9c15045e5bd8bb1b150fd9954\",\"mode\":\"active\"}]}\n"
          ]
        },
        {
          "output_type": "stream",
          "name": "stderr",
          "text": [
            "INFO:werkzeug:127.0.0.1 - - [25/Aug/2023 03:12:03] \"POST / HTTP/1.1\" 200 -\n"
          ]
        },
        {
          "output_type": "stream",
          "name": "stdout",
          "text": [
            "{\"destination\":\"U2ae5fb7567b93ff3a4b9104d6e868630\",\"events\":[{\"type\":\"postback\",\"postback\":{\"data\":\"米白\"},\"webhookEventId\":\"01H8NATXY1BG3NKKMX24MYQ0WK\",\"deliveryContext\":{\"isRedelivery\":false},\"timestamp\":1692933125579,\"source\":{\"type\":\"user\",\"userId\":\"U978b21ba1799679c3e799e824c86c91d\"},\"replyToken\":\"6abdbc2a6f174e05ab4b741692921c1d\",\"mode\":\"active\"}]}\n"
          ]
        },
        {
          "output_type": "stream",
          "name": "stderr",
          "text": [
            "INFO:werkzeug:127.0.0.1 - - [25/Aug/2023 03:12:06] \"POST / HTTP/1.1\" 200 -\n"
          ]
        },
        {
          "output_type": "stream",
          "name": "stdout",
          "text": [
            "{\"destination\":\"U2ae5fb7567b93ff3a4b9104d6e868630\",\"events\":[{\"type\":\"postback\",\"postback\":{\"data\":\"銀色\"},\"webhookEventId\":\"01H8NAV18SH1AFRK5F1TA2F3HE\",\"deliveryContext\":{\"isRedelivery\":false},\"timestamp\":1692933129200,\"source\":{\"type\":\"user\",\"userId\":\"U978b21ba1799679c3e799e824c86c91d\"},\"replyToken\":\"1797031aef7b422fbbc852e166f1258d\",\"mode\":\"active\"}]}\n"
          ]
        },
        {
          "output_type": "stream",
          "name": "stderr",
          "text": [
            "INFO:werkzeug:127.0.0.1 - - [25/Aug/2023 03:12:10] \"POST / HTTP/1.1\" 200 -\n"
          ]
        },
        {
          "output_type": "stream",
          "name": "stdout",
          "text": [
            "{\"destination\":\"U2ae5fb7567b93ff3a4b9104d6e868630\",\"events\":[{\"type\":\"postback\",\"postback\":{\"data\":\"粉橘\"},\"webhookEventId\":\"01H8NAV49E2NJQEP44K901WDCV\",\"deliveryContext\":{\"isRedelivery\":false},\"timestamp\":1692933132577,\"source\":{\"type\":\"user\",\"userId\":\"U978b21ba1799679c3e799e824c86c91d\"},\"replyToken\":\"c64fc04f57454a6b9edeb714b050ddb4\",\"mode\":\"active\"}]}\n"
          ]
        },
        {
          "output_type": "stream",
          "name": "stderr",
          "text": [
            "INFO:werkzeug:127.0.0.1 - - [25/Aug/2023 03:12:13] \"POST / HTTP/1.1\" 200 -\n"
          ]
        },
        {
          "output_type": "stream",
          "name": "stdout",
          "text": [
            "{\"destination\":\"U2ae5fb7567b93ff3a4b9104d6e868630\",\"events\":[{\"type\":\"postback\",\"postback\":{\"data\":\"粉紅\"},\"webhookEventId\":\"01H8NAV7FAFHR9BXH4SK32J9P3\",\"deliveryContext\":{\"isRedelivery\":false},\"timestamp\":1692933135348,\"source\":{\"type\":\"user\",\"userId\":\"U978b21ba1799679c3e799e824c86c91d\"},\"replyToken\":\"78a4239568c74e1f9076936fe18d8815\",\"mode\":\"active\"}]}\n"
          ]
        },
        {
          "output_type": "stream",
          "name": "stderr",
          "text": [
            "INFO:werkzeug:127.0.0.1 - - [25/Aug/2023 03:12:16] \"POST / HTTP/1.1\" 200 -\n"
          ]
        },
        {
          "output_type": "stream",
          "name": "stdout",
          "text": [
            "{\"destination\":\"U2ae5fb7567b93ff3a4b9104d6e868630\",\"events\":[{\"type\":\"postback\",\"postback\":{\"data\":\"粉橘\"},\"webhookEventId\":\"01H8NAVBDMJ5EV4N9ZMJ64JZAN\",\"deliveryContext\":{\"isRedelivery\":false},\"timestamp\":1692933139455,\"source\":{\"type\":\"user\",\"userId\":\"U978b21ba1799679c3e799e824c86c91d\"},\"replyToken\":\"81a185ac07c14a7791f52c92df99f816\",\"mode\":\"active\"}]}\n"
          ]
        },
        {
          "output_type": "stream",
          "name": "stderr",
          "text": [
            "INFO:werkzeug:127.0.0.1 - - [25/Aug/2023 03:12:20] \"POST / HTTP/1.1\" 200 -\n"
          ]
        },
        {
          "output_type": "stream",
          "name": "stdout",
          "text": [
            "{\"destination\":\"U2ae5fb7567b93ff3a4b9104d6e868630\",\"events\":[{\"type\":\"postback\",\"postback\":{\"data\":\"有一點點帶藍或帶綠的白色\"},\"webhookEventId\":\"01H8NAVEG388RJZTRDKFJKRKNR\",\"deliveryContext\":{\"isRedelivery\":false},\"timestamp\":1692933142755,\"source\":{\"type\":\"user\",\"userId\":\"U978b21ba1799679c3e799e824c86c91d\"},\"replyToken\":\"2b43fd846b0b4cbf82c0e2bd1580fdf7\",\"mode\":\"active\"}]}\n"
          ]
        },
        {
          "output_type": "stream",
          "name": "stderr",
          "text": [
            "INFO:werkzeug:127.0.0.1 - - [25/Aug/2023 03:12:23] \"POST / HTTP/1.1\" 200 -\n"
          ]
        },
        {
          "output_type": "stream",
          "name": "stdout",
          "text": [
            "{\"destination\":\"U2ae5fb7567b93ff3a4b9104d6e868630\",\"events\":[{\"type\":\"message\",\"message\":{\"type\":\"text\",\"id\":\"469932912738566216\",\"text\":\"@虛擬化妝間\"},\"webhookEventId\":\"01H8NAVJYZEVQC0MN6QNRQC7CY\",\"deliveryContext\":{\"isRedelivery\":false},\"timestamp\":1692933147502,\"source\":{\"type\":\"user\",\"userId\":\"U978b21ba1799679c3e799e824c86c91d\"},\"replyToken\":\"4c4738a08da54ff883ab535d3a81cfb7\",\"mode\":\"active\"}]}\n"
          ]
        },
        {
          "output_type": "stream",
          "name": "stderr",
          "text": [
            "<ipython-input-25-1e4843afef3f>:59: LineBotSdkDeprecatedIn30: Call to deprecated method reply_message. (Use 'from linebot.v3.messaging import MessagingApi' and 'MessagingApi(...).reply_message(...)' instead. See https://github.com/line/line-bot-sdk-python/blob/master/README.rst for more details.) -- Deprecated since version 3.0.0.\n",
            "  line_bot_api.reply_message(\n",
            "INFO:werkzeug:127.0.0.1 - - [25/Aug/2023 03:12:28] \"POST / HTTP/1.1\" 200 -\n"
          ]
        },
        {
          "output_type": "stream",
          "name": "stdout",
          "text": [
            "{\"destination\":\"U2ae5fb7567b93ff3a4b9104d6e868630\",\"events\":[{\"type\":\"postback\",\"postback\":{\"data\":\"@Poinsettia\"},\"webhookEventId\":\"01H8NAVPPSCENWCR89GC85Z7XE\",\"deliveryContext\":{\"isRedelivery\":false},\"timestamp\":1692933150974,\"source\":{\"type\":\"user\",\"userId\":\"U978b21ba1799679c3e799e824c86c91d\"},\"replyToken\":\"ee84efad14c64135bde30a78231cd5d0\",\"mode\":\"active\"},{\"type\":\"message\",\"message\":{\"type\":\"text\",\"id\":\"469932918643622138\",\"text\":\"Poinsettia\"},\"webhookEventId\":\"01H8NAVPPV8T1X9YRJCKGPV98H\",\"deliveryContext\":{\"isRedelivery\":false},\"timestamp\":1692933150974,\"source\":{\"type\":\"user\",\"userId\":\"U978b21ba1799679c3e799e824c86c91d\"},\"replyToken\":\"a27194e3190d4de6878f0eb655ec40d2\",\"mode\":\"active\"}]}\n"
          ]
        },
        {
          "output_type": "stream",
          "name": "stderr",
          "text": [
            "<ipython-input-25-1e4843afef3f>:64: LineBotSdkDeprecatedIn30: Call to deprecated method reply_message. (Use 'from linebot.v3.messaging import MessagingApi' and 'MessagingApi(...).reply_message(...)' instead. See https://github.com/line/line-bot-sdk-python/blob/master/README.rst for more details.) -- Deprecated since version 3.0.0.\n",
            "  line_bot_api.reply_message(\n",
            "INFO:werkzeug:127.0.0.1 - - [25/Aug/2023 03:12:32] \"POST / HTTP/1.1\" 200 -\n"
          ]
        },
        {
          "output_type": "stream",
          "name": "stdout",
          "text": [
            "{\"destination\":\"U2ae5fb7567b93ff3a4b9104d6e868630\",\"events\":[{\"type\":\"message\",\"message\":{\"type\":\"image\",\"id\":\"469932946728681741\",\"contentProvider\":{\"type\":\"line\"}},\"webhookEventId\":\"01H8NAW74NFGZ07YWEH6ZXF9VY\",\"deliveryContext\":{\"isRedelivery\":false},\"timestamp\":1692933168037,\"source\":{\"type\":\"user\",\"userId\":\"U978b21ba1799679c3e799e824c86c91d\"},\"replyToken\":\"82a09377bf78459c8730c768beba414c\",\"mode\":\"active\"}]}\n",
            "Fri Aug 25 03:12:48 2023\n"
          ]
        },
        {
          "output_type": "stream",
          "name": "stderr",
          "text": [
            "<ipython-input-35-5850620a649f>:21: LineBotSdkDeprecatedIn30: Call to deprecated method get_message_content. (Use 'from linebot.v3.messaging import MessagingApiBlob' and 'MessagingApiBlob(...).get_message_content(...)' instead. See https://github.com/line/line-bot-sdk-python/blob/master/README.rst for more details.) -- Deprecated since version 3.0.0.\n",
            "  message_content = line_bot_api.get_message_content(event.message.id)\n"
          ]
        },
        {
          "output_type": "stream",
          "name": "stdout",
          "text": [
            "Fri Aug 25 03:12:50 2023\n"
          ]
        },
        {
          "output_type": "stream",
          "name": "stderr",
          "text": [
            "<ipython-input-35-5850620a649f>:154: LineBotSdkDeprecatedIn30: Call to deprecated method reply_message. (Use 'from linebot.v3.messaging import MessagingApi' and 'MessagingApi(...).reply_message(...)' instead. See https://github.com/line/line-bot-sdk-python/blob/master/README.rst for more details.) -- Deprecated since version 3.0.0.\n",
            "  line_bot_api.reply_message(event.reply_token, ImageSendMessage(original_content_url=imgur_link, preview_image_url=imgur_link))\n",
            "INFO:werkzeug:127.0.0.1 - - [25/Aug/2023 03:12:54] \"POST / HTTP/1.1\" 200 -\n"
          ]
        }
      ],
      "source": [
        "# 主程序運行\n",
        "port = 5000\n",
        "# Open a ngrok tunnel to the HTTP server\n",
        "public_url = ngrok.connect(port).public_url\n",
        "print(\" * ngrok tunnel \\\"{}\\\" -> \\\"http://127.0.0.1:{}\\\"\".format(public_url, port))\n",
        "app.run()"
      ]
    },
    {
      "cell_type": "code",
      "source": [],
      "metadata": {
        "id": "MVtMa8a9mhUB"
      },
      "execution_count": null,
      "outputs": []
    },
    {
      "cell_type": "code",
      "execution_count": null,
      "metadata": {
        "id": "YhyKB6njFHJC"
      },
      "outputs": [],
      "source": [
        "\n",
        "'''\n",
        "\n",
        "撰寫用戶關注時，我們要處理的商業邏輯\n",
        "\n",
        "1. 取得用戶個資，並存回伺服器\n",
        "2. 回應用戶，歡迎用的文字消息\n",
        "\n",
        "'''\n",
        "\n",
        "\n",
        "# 載入Follow事件\n",
        "from linebot.models.events import (\n",
        "    FollowEvent\n",
        ")\n",
        "\n",
        "from linebot.models import(\n",
        "    TextSendMessage, ImageSendMessage\n",
        ")\n",
        "\n",
        "# 告知handler，如果收到FollowEvent，則做下面的方法處理\n",
        "@handler.add(FollowEvent)\n",
        "def reply_text_and_get_user_profile(event):\n",
        "\n",
        "    # 取出消息內User的資料\n",
        "    user_profile = line_bot_api.get_profile(event.source.user_id)\n",
        "\n",
        "     # 將用戶資訊存在檔案內\n",
        "    with open(\"/content/drive/MyDrive/users.txt\", \"a\") as myfile:\n",
        "        myfile.write(json.dumps(vars(user_profile),sort_keys=True))\n",
        "        myfile.write('\\n')\n",
        "\n",
        "    # 回覆文字消息與圖片消息\n",
        "    line_bot_api.reply_message(\n",
        "        event.reply_token,\n",
        "        [TextSendMessage('安安，你的個資已被我紀錄了')]\n",
        "    )"
      ]
    },
    {
      "cell_type": "code",
      "source": [],
      "metadata": {
        "id": "OMtOg3vAjXof"
      },
      "execution_count": null,
      "outputs": []
    }
  ],
  "metadata": {
    "colab": {
      "provenance": [],
      "include_colab_link": true
    },
    "kernelspec": {
      "display_name": "Python 3",
      "name": "python3"
    }
  },
  "nbformat": 4,
  "nbformat_minor": 0
}